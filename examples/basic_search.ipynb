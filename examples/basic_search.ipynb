{
 "cells": [
  {
   "cell_type": "code",
   "execution_count": 0,
   "metadata": {
    "application/vnd.databricks.v1+cell": {
     "cellMetadata": {
      "byteLimit": 2048000,
      "rowLimit": 10000
     },
     "inputWidgets": {},
     "nuid": "69b24b20-ab1c-404d-b9a0-89a5e67dcd59",
     "showTitle": false,
     "title": ""
    }
   },
   "outputs": [],
   "source": [
    "%pip install faiss-cpu\n",
    "%pip install -r ../requirements.txt\n",
    "%pip install \"ray[default]>=2.3.0\""
   ]
  },
  {
   "cell_type": "code",
   "execution_count": 0,
   "metadata": {
    "application/vnd.databricks.v1+cell": {
     "cellMetadata": {
      "byteLimit": 2048000,
      "rowLimit": 10000
     },
     "inputWidgets": {},
     "nuid": "6b9c1abc-57da-469c-b2b9-6ed3a6a61470",
     "showTitle": false,
     "title": ""
    }
   },
   "outputs": [],
   "source": [
    "from ray_search import *"
   ]
  },
  {
   "cell_type": "code",
   "execution_count": 0,
   "metadata": {
    "application/vnd.databricks.v1+cell": {
     "cellMetadata": {
      "byteLimit": 2048000,
      "rowLimit": 10000
     },
     "inputWidgets": {},
     "nuid": "48e72db5-7afb-4dc7-9e36-92fde503a898",
     "showTitle": false,
     "title": ""
    }
   },
   "outputs": [],
   "source": [
    "data = spark.table(\"hive_metastore.sri_demo_catalog.amazon_luggage_reviews_cleaned\").toPandas()"
   ]
  },
  {
   "cell_type": "code",
   "execution_count": 0,
   "metadata": {
    "application/vnd.databricks.v1+cell": {
     "cellMetadata": {
      "byteLimit": 2048000,
      "rowLimit": 10000
     },
     "inputWidgets": {},
     "nuid": "38442a55-f5e3-4a54-bafe-40a2a121c005",
     "showTitle": false,
     "title": ""
    }
   },
   "outputs": [],
   "source": [
    "data"
   ]
  },
  {
   "cell_type": "code",
   "execution_count": 0,
   "metadata": {
    "application/vnd.databricks.v1+cell": {
     "cellMetadata": {
      "byteLimit": 2048000,
      "rowLimit": 10000
     },
     "inputWidgets": {},
     "nuid": "f6a7299f-72f2-49a7-b0c3-e33b50ac6274",
     "showTitle": false,
     "title": ""
    }
   },
   "outputs": [],
   "source": [
    "ids = data['review_id'].values.astype('U').tolist()\n",
    "texts = data['review_body_trunc'].values.astype('U').tolist()"
   ]
  },
  {
   "cell_type": "code",
   "execution_count": 0,
   "metadata": {
    "application/vnd.databricks.v1+cell": {
     "cellMetadata": {
      "byteLimit": 2048000,
      "rowLimit": 10000
     },
     "inputWidgets": {},
     "nuid": "1099984f-45fb-42df-8dc0-0e284378bbe8",
     "showTitle": false,
     "title": ""
    }
   },
   "outputs": [],
   "source": [
    "# from ray.util.spark import shutdown_ray_cluster\n",
    "# import ray\n",
    "# ray.init()\n",
    "# shutdown_ray_cluster()\n",
    "# ray.shutdown()"
   ]
  },
  {
   "cell_type": "code",
   "execution_count": 0,
   "metadata": {
    "application/vnd.databricks.v1+cell": {
     "cellMetadata": {
      "byteLimit": 2048000,
      "rowLimit": 10000
     },
     "inputWidgets": {},
     "nuid": "fe197b01-9629-413e-978d-995240212907",
     "showTitle": false,
     "title": ""
    }
   },
   "outputs": [],
   "source": [
    "import ray_search\n",
    "\n",
    "with RayCluster(\n",
    "  num_worker_nodes = 8, \n",
    "  num_cpus_per_node = 8,\n",
    "  runtime_env={\"py_modules\":[ray_search]}\n",
    "  ) as r:\n",
    "  print(f\"Using: {r.max_parallel_workers()} workers\")\n",
    "\n",
    "  matrix_builder: SearchMatrixBuilder = SearchMatrixBuilder() \\\n",
    "        .with_content(ids,\n",
    "                      texts) \\\n",
    "        .with_workers(r.max_parallel_workers()) \\\n",
    "        .with_worker_memory(Memory.in_mb(512)) \\\n",
    "        .as_512_chunk() \\\n",
    "        .with_vectorizer(Vectorizers.SentenceTransformerDense)\n",
    "\n",
    "  search_builder: SearchBuilder = SearchBuilder() \\\n",
    "        .with_workers(int(r.max_parallel_workers()/4)) \\\n",
    "        .with_searcher(Searchers.FaissANNSearch) \\\n",
    "        .with_worker_memory(Memory.in_mb(2046)) \\\n",
    "        .with_chunk_size(32) \\\n",
    "        .with_top_k_per_entity(5)\n",
    "    \n",
    "  results = SearchPipeline() \\\n",
    "        .with_search_matrix_builder(matrix_builder) \\\n",
    "        .with_search_builder(search_builder) \\\n",
    "        .to_df_unnested()"
   ]
  },
  {
   "cell_type": "code",
   "execution_count": 0,
   "metadata": {
    "application/vnd.databricks.v1+cell": {
     "cellMetadata": {
      "byteLimit": 2048000,
      "rowLimit": 10000
     },
     "inputWidgets": {},
     "nuid": "ff31beb0-45d7-4e6c-b26c-26ff9c58b174",
     "showTitle": false,
     "title": ""
    }
   },
   "outputs": [],
   "source": [
    "spark.createDataFrame(results).createOrReplaceTempView(\"search_results\")"
   ]
  },
  {
   "cell_type": "code",
   "execution_count": 0,
   "metadata": {
    "application/vnd.databricks.v1+cell": {
     "cellMetadata": {
      "byteLimit": 2048000,
      "implicitDf": true,
      "rowLimit": 10000
     },
     "inputWidgets": {},
     "nuid": "f971af45-56bd-4694-9599-8b626abcde68",
     "showTitle": false,
     "title": ""
    }
   },
   "outputs": [],
   "source": [
    "%sql\n",
    "SELECT * FROM search_results LIMIT 10"
   ]
  },
  {
   "cell_type": "code",
   "execution_count": 0,
   "metadata": {
    "application/vnd.databricks.v1+cell": {
     "cellMetadata": {
      "byteLimit": 2048000,
      "implicitDf": true,
      "rowLimit": 10000
     },
     "inputWidgets": {},
     "nuid": "6287fecf-18c0-4f75-89fd-9a0e38dcad51",
     "showTitle": false,
     "title": ""
    }
   },
   "outputs": [],
   "source": [
    "%sql\n",
    "SELECT count(1) FROM search_results"
   ]
  },
  {
   "cell_type": "code",
   "execution_count": 0,
   "metadata": {
    "application/vnd.databricks.v1+cell": {
     "cellMetadata": {
      "byteLimit": 2048000,
      "implicitDf": true,
      "rowLimit": 10000
     },
     "inputWidgets": {},
     "nuid": "95c208e0-6a99-41a2-8656-7a91cbb381bb",
     "showTitle": false,
     "title": ""
    }
   },
   "outputs": [],
   "source": [
    "%sql\n",
    "SELECT input_id, count(1) FROM search_results GROUP BY 1"
   ]
  },
  {
   "cell_type": "code",
   "execution_count": 0,
   "metadata": {
    "application/vnd.databricks.v1+cell": {
     "cellMetadata": {},
     "inputWidgets": {},
     "nuid": "08bea528-429d-494b-8b0a-1c0cc084acc6",
     "showTitle": false,
     "title": ""
    }
   },
   "outputs": [],
   "source": []
  }
 ],
 "metadata": {
  "application/vnd.databricks.v1+notebook": {
   "dashboards": [],
   "language": "python",
   "notebookMetadata": {
    "mostRecentlyExecutedCommandWithImplicitDF": {
     "commandId": 3629497604360545,
     "dataframes": [
      "_sqldf"
     ]
    },
    "pythonIndentUnit": 2
   },
   "notebookName": "basic_search",
   "notebookOrigID": 3629497604353161,
   "widgets": {}
  }
 },
 "nbformat": 4,
 "nbformat_minor": 0
}
