{
 "cells": [
  {
   "cell_type": "code",
   "execution_count": 0,
   "metadata": {
    "application/vnd.databricks.v1+cell": {
     "cellMetadata": {
      "byteLimit": 2048000,
      "rowLimit": 10000
     },
     "inputWidgets": {},
     "nuid": "46f4bf1e-d715-4675-8c9b-e83f3215e5a3",
     "showTitle": false,
     "title": ""
    }
   },
   "outputs": [],
   "source": [
    "%pip install faiss-cpu\n",
    "%pip install -r ../requirements.txt\n",
    "%pip install \"ray[default]>=2.3.0\""
   ]
  },
  {
   "cell_type": "code",
   "execution_count": 0,
   "metadata": {
    "application/vnd.databricks.v1+cell": {
     "cellMetadata": {
      "byteLimit": 2048000,
      "rowLimit": 10000
     },
     "inputWidgets": {},
     "nuid": "2b202858-212d-4376-a850-1eb6d24f0ff4",
     "showTitle": false,
     "title": ""
    }
   },
   "outputs": [],
   "source": [
    "from ray_search import *"
   ]
  },
  {
   "cell_type": "code",
   "execution_count": 0,
   "metadata": {
    "application/vnd.databricks.v1+cell": {
     "cellMetadata": {
      "byteLimit": 2048000,
      "rowLimit": 10000
     },
     "inputWidgets": {},
     "nuid": "1be6cd18-ccc1-4d5f-a907-c140576a95d3",
     "showTitle": false,
     "title": ""
    }
   },
   "outputs": [],
   "source": [
    "from pyspark.sql.functions import monotonically_increasing_id, sha2, concat\n",
    "qadf = spark.sql(\"\"\"SELECT * FROM stackoverflow.qa_table\"\"\")\n",
    "qadf = qadf.withColumn('id', sha2(\"question\", 256).cast('string'))\n",
    "qadf = qadf.select(\"id\", concat(\"question\", \"answer_body\").alias(\"content\"))"
   ]
  },
  {
   "cell_type": "code",
   "execution_count": 0,
   "metadata": {
    "application/vnd.databricks.v1+cell": {
     "cellMetadata": {
      "byteLimit": 2048000,
      "rowLimit": 10000
     },
     "inputWidgets": {},
     "nuid": "9d5ee800-6aab-48ef-a90d-88f765c2146c",
     "showTitle": false,
     "title": ""
    }
   },
   "outputs": [],
   "source": [
    "df = qadf.toPandas()"
   ]
  },
  {
   "cell_type": "code",
   "execution_count": 0,
   "metadata": {
    "application/vnd.databricks.v1+cell": {
     "cellMetadata": {
      "byteLimit": 2048000,
      "rowLimit": 10000
     },
     "inputWidgets": {},
     "nuid": "e6b0b451-5bf3-421e-9cca-020577bed91f",
     "showTitle": false,
     "title": ""
    }
   },
   "outputs": [],
   "source": [
    "df.head(2)"
   ]
  },
  {
   "cell_type": "code",
   "execution_count": 0,
   "metadata": {
    "application/vnd.databricks.v1+cell": {
     "cellMetadata": {
      "byteLimit": 2048000,
      "rowLimit": 10000
     },
     "inputWidgets": {},
     "nuid": "3ec6e376-af11-4114-bd0e-11b42f339886",
     "showTitle": false,
     "title": ""
    }
   },
   "outputs": [],
   "source": [
    "df.shape"
   ]
  },
  {
   "cell_type": "code",
   "execution_count": 0,
   "metadata": {
    "application/vnd.databricks.v1+cell": {
     "cellMetadata": {
      "byteLimit": 2048000,
      "rowLimit": 10000
     },
     "inputWidgets": {},
     "nuid": "2cd962a6-66c4-4b59-acf9-44011e59c74d",
     "showTitle": false,
     "title": ""
    }
   },
   "outputs": [],
   "source": [
    "ids = df['id'].values.astype('str').tolist()\n",
    "texts = df['content']"
   ]
  },
  {
   "cell_type": "code",
   "execution_count": 0,
   "metadata": {
    "application/vnd.databricks.v1+cell": {
     "cellMetadata": {
      "byteLimit": 2048000,
      "rowLimit": 10000
     },
     "inputWidgets": {},
     "nuid": "94ee9ac0-314c-4311-92b5-6f874ca334c3",
     "showTitle": false,
     "title": ""
    }
   },
   "outputs": [],
   "source": [
    "import ray_search\n",
    "\n",
    "with RayCluster(\n",
    "  num_worker_nodes = 8, \n",
    "  num_cpus_per_node = 8,\n",
    "  num_gpus_per_node = 1,\n",
    "  runtime_env={\"py_modules\":[ray_search]},\n",
    "  ) as r:\n",
    "  print(f\"Using: {r.max_parallel_workers()} workers\")\n",
    "\n",
    "  matrix_builder: SearchMatrixBuilder = SearchMatrixBuilder() \\\n",
    "        .with_content(ids,\n",
    "                      texts) \\\n",
    "        .with_workers(8) \\\n",
    "        .with_worker_memory(Memory.in_mb(512)) \\\n",
    "        .with_text_chunk_size(1024*10) \\\n",
    "        .with_gpu() \\\n",
    "        .with_vectorizer(\n",
    "          Vectorizers.SentenceTransformerDense \\\n",
    "            .with_encoder_batch_size(1024+512)\n",
    "        )\n",
    "\n",
    "  search_builder: SearchBuilder = SearchBuilder() \\\n",
    "        .with_workers(int(r.max_parallel_workers())) \\\n",
    "        .with_searcher(Searchers.FaissANNSearch) \\\n",
    "        .with_worker_memory(Memory.in_mb(512)) \\\n",
    "        .with_text_chunk_size(96) \\\n",
    "        .with_top_k_per_entity(5)\n",
    "    \n",
    "  results = SearchPipeline() \\\n",
    "        .with_search_matrix_builder(matrix_builder) \\\n",
    "        .with_search_builder(search_builder) \\\n",
    "        .to_df_unnested()"
   ]
  },
  {
   "cell_type": "code",
   "execution_count": 0,
   "metadata": {
    "application/vnd.databricks.v1+cell": {
     "cellMetadata": {
      "byteLimit": 2048000,
      "rowLimit": 10000
     },
     "inputWidgets": {},
     "nuid": "1e56a486-03bf-46ec-b64c-f575b0e88ada",
     "showTitle": false,
     "title": ""
    }
   },
   "outputs": [],
   "source": [
    "results"
   ]
  }
 ],
 "metadata": {
  "application/vnd.databricks.v1+notebook": {
   "dashboards": [],
   "language": "python",
   "notebookMetadata": {
    "pythonIndentUnit": 2
   },
   "notebookName": "stack_overflow_search",
   "notebookOrigID": 3629497604368898,
   "widgets": {}
  }
 },
 "nbformat": 4,
 "nbformat_minor": 0
}
